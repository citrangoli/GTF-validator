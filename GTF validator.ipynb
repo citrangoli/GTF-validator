{
 "cells": [
  {
   "cell_type": "markdown",
   "metadata": {},
   "source": [
    "# GTF validator\n",
    "\n",
    "## Richiesta\n",
    "Si richiede di scrivere un validatore del formato GTF (Gene Transfer Format) che prenda in input un file in formato GTF che annota un set di geni ed effettui la validazione del file rispetto alla specifica del formato.<br>\n",
    "Il validatore deve produrre in output un report con le violazioni presenti, specificando per ognuna di esse il record che la contiene (posizione all'interno del file in input) e tutte le informazioni che si ritengono necessarie per descriverla e correggerla.<br>\n",
    "Il validatore può essere prodotto sia come script che come Jupyter Notebook, e deve essere adeguatamente commentato. Si richiede inoltre un documento che elenchi e descriva brevemente le violazioni che sono state considerate. Per ogni violazione considerata, includere un file con tale violazione.\n",
    "\n",
    "## Input\n",
    "Per eseguire questo notebook è necessario fornire il file GTF da testare collocandolo nella stessa directory del notebook. È possibile indicare il nome del file nella prima cella di codice (il nome di default è `input.gtf`). È naturalmente possibile indicare il percorso di un file se non si desidera spostarlo nella cartella di lavoro del notebook.\n",
    "\n",
    "## Output\n",
    "Dopo aver analizzato il file, il notebook crea un report delle violazioni (posizione e indicazioni aggiuntive) che viene stampato a schermo alla fine del notebook.\n",
    "\n",
    "***"
   ]
  },
  {
   "cell_type": "code",
   "execution_count": null,
   "metadata": {},
   "outputs": [],
   "source": [
    "# Modificare la seguente riga per specificare il file da analizzare:\n",
    "input_file_name = './input.gtf'"
   ]
  },
  {
   "cell_type": "markdown",
   "metadata": {},
   "source": [
    "Durante la lettura del file tutte le violazioni vengono inserite nella lista `violations` che verrà poi usata per stampare un report alla fine dell'esecuzione. Ogni elemento della lista è a sua volta una lista che contiene la riga affetta e una breve descrizione del problema."
   ]
  },
  {
   "cell_type": "code",
   "execution_count": null,
   "metadata": {},
   "outputs": [],
   "source": [
    "# Inizializzazione della lista di violazioni:\n",
    "violations = []"
   ]
  },
  {
   "cell_type": "markdown",
   "metadata": {},
   "source": [
    "L'istruzione seguente importa i moduli necessari."
   ]
  },
  {
   "cell_type": "code",
   "execution_count": null,
   "metadata": {},
   "outputs": [],
   "source": [
    "import re"
   ]
  },
  {
   "cell_type": "markdown",
   "metadata": {},
   "source": [
    "Le feature \"CDS\", \"start_codon\" e \"stop_codon\" sono richieste in ogni file GTF, mentre le altre sono opzionali. Per verificare la loro presenza vengono usati tre flag booleani. Essi sono contenuti nel dizionario `required_features` e vengono settati a `True` se la relativa feature appare almeno una volta nel file."
   ]
  },
  {
   "cell_type": "code",
   "execution_count": null,
   "metadata": {},
   "outputs": [],
   "source": [
    "required_features = {\"CDS\": False, \"start_codon\": False, \"stop_codon\": False}"
   ]
  },
  {
   "cell_type": "markdown",
   "metadata": {},
   "source": [
    "### Definizione delle funzioni per il controllo dei campi di ogni riga del file\n",
    "Le otto funzioni seguenti servono a verificare la correttezza sintattica dei diversi campi che si possono trovare in una riga. Esse seguono tutte la stessa logica: ricevono in input uno o più campi di una riga e il numero della riga stessa. Dopo aver effettuato i controlli, per esempio cercando un match con una espressione regolare, ogni funzione può segnalare una violazione effettuando un append alla lista `violations`, inserendo quindi il numero della riga affetta (ricevuto come parametro) e una breve descrizione dell'anomalia.<br>\n",
    "Il funzionamento specifico e le scelte implementative che hanno guidato la scrittura delle seguenti funzioni sono descritte nel PDF di documentazione, dove si descrivono inoltre i vari tipi di violazioni considerate."
   ]
  },
  {
   "cell_type": "code",
   "execution_count": null,
   "metadata": {},
   "outputs": [],
   "source": [
    "def check_seqname_violation(row_number, seqname):\n",
    "    if not re.match('^[^\\s]+$', seqname):\n",
    "        violations.append([row_number, 'Il campo \"seqname\" contiene caratteri non ammessi'])"
   ]
  },
  {
   "cell_type": "code",
   "execution_count": null,
   "metadata": {},
   "outputs": [],
   "source": [
    "def check_source_violation(row_number, source):\n",
    "    if not re.match('^[^\\s]+$', source):\n",
    "        violations.append([row_number, 'Il campo \"source\" contiene caratteri non ammessi'])"
   ]
  },
  {
   "cell_type": "code",
   "execution_count": null,
   "metadata": {},
   "outputs": [],
   "source": [
    "def check_feature_violation(row_number, feature):\n",
    "    # Per prima cosa viene controllata la presenza delle tre feature obbligatorie,\n",
    "    # eventualmente settando il flag opportuno.\n",
    "    if feature in [\"CDS\", \"start_codon\", \"stop_codon\"]:\n",
    "        required_features[feature] = True\n",
    "        return\n",
    "\n",
    "    if feature not in [\"5UTR\", \"3UTR\", \"inter\", \"inter_CNS\", \"intron_CNS\", \"exon\"]:\n",
    "        violations.append([row_number, '(warning) La feature \"' + feature + '\" non è riconosciuta'])"
   ]
  },
  {
   "cell_type": "code",
   "execution_count": null,
   "metadata": {},
   "outputs": [],
   "source": [
    "def check_start_end_violation(row_number, start, end):\n",
    "    not_integer_found = False\n",
    "    # Controllo correttezza formale start e end:\n",
    "    if not re.match('^\\d+$', start):\n",
    "        violations.append([row_number, 'Il campo \"start\" contiene caratteri non ammessi'])\n",
    "        not_integer_found = True\n",
    "    if not re.match('^\\d+$', end):\n",
    "        violations.append([row_number, 'Il campo \"end\" contiene caratteri non ammessi'])\n",
    "        not_integer_found = True\n",
    "    if not_integer_found:\n",
    "        return\n",
    "\n",
    "    # Conversione a int e verifica valori:\n",
    "    start = int(start)\n",
    "    end = int(end)\n",
    "    if start < 1:\n",
    "        violations.append([row_number, 'Il campo \"start\" assume un valore non consentito'])\n",
    "    if end < 1:\n",
    "        violations.append([row_number, 'Il campo \"end\" assume un valore non consentito'])\n",
    "    if start > end:\n",
    "        violations.append([row_number, 'Il campo \"start\" è maggiore del campo \"end\"'])"
   ]
  },
  {
   "cell_type": "code",
   "execution_count": null,
   "metadata": {},
   "outputs": [],
   "source": [
    "def check_score_violation(row_number, score):\n",
    "    if not re.match('(?:^-?\\d+$)|(?:^-?\\d+\\.\\d+$)|(?:^\\.$)', score):\n",
    "        violations.append([row_number, 'Il campo \"score\" contiene un valore non ammesso'])"
   ]
  },
  {
   "cell_type": "code",
   "execution_count": null,
   "metadata": {},
   "outputs": [],
   "source": [
    "def check_strand_violation(row_number, strand):\n",
    "    if strand != '+' and strand != '-':\n",
    "        violations.append([row_number, 'Il campo \"strand\" contiene un valore non ammesso'])"
   ]
  },
  {
   "cell_type": "code",
   "execution_count": null,
   "metadata": {},
   "outputs": [],
   "source": [
    "def check_frame_violation(row_number, feature, frame):\n",
    "    if feature in [\"CDS\", \"start_codon\", \"stop_codon\"]:\n",
    "        if frame not in [\"0\", \"1\", \"2\"]:\n",
    "            violations.append([row_number, 'Il campo \"frame\" contiene un valore non ammesso per questa feature'])\n",
    "    else:\n",
    "        if frame != \".\":\n",
    "            violations.append([row_number, 'Il campo \"frame\" contiene un valore non ammesso per questa feature'])"
   ]
  },
  {
   "cell_type": "code",
   "execution_count": null,
   "metadata": {},
   "outputs": [],
   "source": [
    "def check_attributes_violation(row_number, feature, attributes):\n",
    "    if feature == \"inter\" or feature == \"inter_CNS\":\n",
    "        # In questo caso l'attributo 'transcript_id' deve essere vuoto (ma comunque presente):\n",
    "        if not re.match('(?:^gene_id \"[^\"]*\"; transcript_id \"\";(?: \\w+ \"[^\"]*\";)*)|(?:^transcript_id \"\"; gene_id \"[^\"]*\";(?: \\w+ \"[^\"]*\";)*)', attributes):\n",
    "            violations.append([row_number, 'Il campo \"attributes\" non è valido per questa feature'])\n",
    "    else:\n",
    "        # In questo caso 'transcript_id' deve avere un valore associato:\n",
    "        if not re.match('(?:^gene_id \"[^\"]*\"; transcript_id \"[^\"]+\";(?: \\w+ \"[^\"]*\";)*)|(?:^transcript_id \"[^\"]+\"; gene_id \"[^\"]*\";(?: \\w+ \"[^\"]*\";)*)', attributes):\n",
    "            violations.append([row_number, 'Il campo \"attributes\" non è valido per questa feature'])"
   ]
  },
  {
   "cell_type": "markdown",
   "metadata": {},
   "source": [
    "### Definizione di funzioni varie per il controllo del file nella sua interezza"
   ]
  },
  {
   "cell_type": "markdown",
   "metadata": {},
   "source": [
    "La funzione `validate_row` effettua il controllo di una singola riga. Oltre alla riga stessa, riceve come parametro il suo numero (posizione all'interno del file). Tale parametro è necessario nel caso in cui la riga contenga una violazione, infatti il numero della riga deve essere inserito nella lista di violazioni.<br>\n",
    "Questa funzione verrà chiamata per ogni riga presente nel file e si appoggia alle otto funzioni descritte in precedenza per la verifica dei diversi campi."
   ]
  },
  {
   "cell_type": "code",
   "execution_count": null,
   "metadata": {},
   "outputs": [],
   "source": [
    "def validate_row(row, row_number):\n",
    "    # All'interno dei file GTF sono ammessi commenti, identificati dal carattere\n",
    "    # cancelletto iniziale. Un commento può occupare una riga intera (in questo\n",
    "    # caso il cancelletto è il primo carattere della riga) o può trovarsi alla fine\n",
    "    # di una riga. In ogni caso, tutto ciò che si trova dopo un carattere cancelletto\n",
    "    # non deve essere parsato, quindi dalla riga vengono rimossi tutti i caratteri che\n",
    "    # seguono un cancelletto.\n",
    "    row = row.split('#', 1)[0]\n",
    "    # Effettuiamo inoltre uno strip per rimuovere i caratteri indesiderati al\n",
    "    # termine della riga:\n",
    "    row = row.rstrip()\n",
    "    # Possiamo scartare le righe che dopo le operazioni precedenti sono rimaste\n",
    "    # vuote, come ad esempio righe che erano adibite a commenti o che erano\n",
    "    # intenzionalmente senza contenuto:\n",
    "    if row == '':\n",
    "        return\n",
    "\n",
    "    # Controllo sul numero minimo di campi presenti in una riga:\n",
    "    fields = row.split('\\t')\n",
    "    if len(fields) != 9:\n",
    "        violations.append([row_number, \"Ogni record deve contenere nove campi, ne sono stati trovati solo \" + str(len(fields))])\n",
    "        return\n",
    "\n",
    "    # Verifica della correttezza dei singoli campi della riga:\n",
    "    check_seqname_violation(row_number, fields[0])\n",
    "    check_source_violation(row_number, fields[1])\n",
    "    check_feature_violation(row_number, fields[2])\n",
    "    check_start_end_violation(row_number, fields[3], fields[4])\n",
    "    check_score_violation(row_number, fields[5])\n",
    "    check_strand_violation(row_number, fields[6])\n",
    "    check_frame_violation(row_number, fields[2], fields[7])\n",
    "    check_attributes_violation(row_number, fields[2], fields[8])"
   ]
  },
  {
   "cell_type": "markdown",
   "metadata": {},
   "source": [
    "La funzione `validate_required_features` verrà chiamata dopo che sono state parsate tutte le righe del file. Essa verifica tramite la lettura del dizionario `required_features` se le tre feature obbligatorie (CDS, start_codon e stop_codon) sono presenti almeno una volta all'interno del file, come richiesto dal formato GTF.<br>\n",
    "Nel caso in cui ci siano feature obbligatorie mancanti, viene segnalato un errore alla riga \"speciale\" zero."
   ]
  },
  {
   "cell_type": "code",
   "execution_count": null,
   "metadata": {},
   "outputs": [],
   "source": [
    "def validate_required_features():\n",
    "    for f in [\"CDS\", \"start_codon\", \"stop_codon\"]:\n",
    "        if not required_features[f]:\n",
    "            violations.append([0, 'La feature obbligatoria \"' + f + '\" non è presente nel file'])"
   ]
  },
  {
   "cell_type": "markdown",
   "metadata": {},
   "source": [
    "La funzione `print_results` stampa il report di violazioni leggendo la lista `violations`. Essa è l'ultima funzione ad essere chiamata."
   ]
  },
  {
   "cell_type": "code",
   "execution_count": null,
   "metadata": {},
   "outputs": [],
   "source": [
    "def print_results():\n",
    "    if len(violations) == 0:\n",
    "        print(\"Non sono presenti violazioni nel file GTF di input.\")\n",
    "    else:\n",
    "        print(\"Sono state individuate le seguenti violazioni:\")\n",
    "        for v in violations:\n",
    "            print(\"Riga \" + str(v[0]) + \": \" + v[1])"
   ]
  },
  {
   "cell_type": "markdown",
   "metadata": {},
   "source": [
    "### Apertura del file e inizio dell'analisi"
   ]
  },
  {
   "cell_type": "markdown",
   "metadata": {},
   "source": [
    "L'impossibilità di aprire un file costituisce una \"violazione\", seppur banale. Se non viene trovato nessun file con il nome specificato l'eccezione viene gestita inserendo nella lista delle violazioni una entry corrispondente alla riga `0` (in questo caso `0` è usato come valore speciale per identificare una violazione che non riguarda nessuna riga in particolare).\n",
    "\n",
    "In modo del tutto analogo, se il file viene aperto ma risulta vuoto, viene aggiunta alla lista una \"violazione\" banale simile alla precedente (sempre alla riga `0`). Prima di effettuare il controllo, viene invocata la funzione `strip()` su tutte le righe e quelle vuote vengono escluse. In questo modo, un file che contiene solamente ritorni a capo e spazi viene di fatto considerato vuoto.\n",
    "\n",
    "Se queste violazioni banali non vengono trovate, si procede all'analisi delle righe del file tramite la funzione `validate_row`."
   ]
  },
  {
   "cell_type": "code",
   "execution_count": null,
   "metadata": {},
   "outputs": [],
   "source": [
    "# Apertura del file di input:\n",
    "try:\n",
    "    with open(input_file_name, 'r') as input_file:\n",
    "        file_rows = input_file.readlines()\n",
    "    # Viene controllato se il file è vuoto:\n",
    "    if len([row for row in file_rows if row.strip() != '']) == 0:\n",
    "        violations.append([0, \"Il file risulta vuoto\"])\n",
    "    else:\n",
    "        # Viene controllata la validità di ogni riga:\n",
    "        for r in range(len(file_rows)):\n",
    "            validate_row(file_rows[r], r+1)\n",
    "        # Viene controllata la presenza delle feature richieste:\n",
    "        validate_required_features()\n",
    "except:\n",
    "    violations.append([0, \"File non trovato\"])"
   ]
  },
  {
   "cell_type": "markdown",
   "metadata": {},
   "source": [
    "### Output report conclusivo\n",
    "Al termine dell'analisi del file la lista delle violazioni contiene le informazioni necessarie alla generazione del report finale. Viene chiamata la funzione `print_results` per leggere la lista e stampare a schermo il report delle violazioni."
   ]
  },
  {
   "cell_type": "code",
   "execution_count": null,
   "metadata": {},
   "outputs": [],
   "source": [
    "# Print del report alla fine dell'analisi:\n",
    "print_results()"
   ]
  }
 ],
 "metadata": {
  "kernelspec": {
   "display_name": "Python 3",
   "language": "python",
   "name": "python3"
  },
  "language_info": {
   "codemirror_mode": {
    "name": "ipython",
    "version": 3
   },
   "file_extension": ".py",
   "mimetype": "text/x-python",
   "name": "python",
   "nbconvert_exporter": "python",
   "pygments_lexer": "ipython3",
   "version": "3.7.6"
  }
 },
 "nbformat": 4,
 "nbformat_minor": 4
}
